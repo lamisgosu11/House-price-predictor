{
 "cells": [
  {
   "cell_type": "code",
   "execution_count": 3,
   "metadata": {},
   "outputs": [
    {
     "ename": "ValueError",
     "evalue": "All arrays must be of the same length",
     "output_type": "error",
     "traceback": [
      "\u001b[1;31m---------------------------------------------------------------------------\u001b[0m",
      "\u001b[1;31mValueError\u001b[0m                                Traceback (most recent call last)",
      "\u001b[1;32md:\\Marsen\\Project\\DS304\\table-gen.ipynb Cell 1\u001b[0m in \u001b[0;36m1\n\u001b[0;32m      <a href='vscode-notebook-cell:/d%3A/Marsen/Project/DS304/table-gen.ipynb#W0sZmlsZQ%3D%3D?line=2'>3</a>\u001b[0m \u001b[39m# Tạo DataFrame từ dữ liệu đã cho\u001b[39;00m\n\u001b[0;32m      <a href='vscode-notebook-cell:/d%3A/Marsen/Project/DS304/table-gen.ipynb#W0sZmlsZQ%3D%3D?line=3'>4</a>\u001b[0m data \u001b[39m=\u001b[39m {\n\u001b[0;32m      <a href='vscode-notebook-cell:/d%3A/Marsen/Project/DS304/table-gen.ipynb#W0sZmlsZQ%3D%3D?line=4'>5</a>\u001b[0m     \u001b[39m'\u001b[39m\u001b[39mMetrics\u001b[39m\u001b[39m'\u001b[39m: [\u001b[39m'\u001b[39m\u001b[39mR2\u001b[39m\u001b[39m'\u001b[39m, \u001b[39m'\u001b[39m\u001b[39mMSE\u001b[39m\u001b[39m'\u001b[39m, \u001b[39m'\u001b[39m\u001b[39mRMSE\u001b[39m\u001b[39m'\u001b[39m, \u001b[39m'\u001b[39m\u001b[39mMAE\u001b[39m\u001b[39m'\u001b[39m],\n\u001b[0;32m      <a href='vscode-notebook-cell:/d%3A/Marsen/Project/DS304/table-gen.ipynb#W0sZmlsZQ%3D%3D?line=5'>6</a>\u001b[0m     \u001b[39m'\u001b[39m\u001b[39mSeed\u001b[39m\u001b[39m'\u001b[39m: [\u001b[39m0.0\u001b[39m, \u001b[39m1.0\u001b[39m, \u001b[39m2.0\u001b[39m, \u001b[39m3.0\u001b[39m, \u001b[39m4.0\u001b[39m, \u001b[39m5.0\u001b[39m, \u001b[39m6.0\u001b[39m, \u001b[39m7.0\u001b[39m, \u001b[39m8.0\u001b[39m, \u001b[39m9.0\u001b[39m, \u001b[39m10.0\u001b[39m, \u001b[39m11.0\u001b[39m, \u001b[39m12.0\u001b[39m, \u001b[39m13.0\u001b[39m, \u001b[39m14.0\u001b[39m, \u001b[39m15.0\u001b[39m, \u001b[39m16.0\u001b[39m, \u001b[39m17.0\u001b[39m, \u001b[39m18.0\u001b[39m, \u001b[39m19.0\u001b[39m],\n\u001b[0;32m      <a href='vscode-notebook-cell:/d%3A/Marsen/Project/DS304/table-gen.ipynb#W0sZmlsZQ%3D%3D?line=6'>7</a>\u001b[0m     \u001b[39m'\u001b[39m\u001b[39mModel_raw\u001b[39m\u001b[39m'\u001b[39m: [\u001b[39m0.557503\u001b[39m, \u001b[39m0.819454\u001b[39m, \u001b[39m0.765616\u001b[39m, \u001b[39m0.496773\u001b[39m, \u001b[39m0.814816\u001b[39m, \u001b[39m0.789928\u001b[39m, \u001b[39m0.817173\u001b[39m, \u001b[39m0.865372\u001b[39m, \u001b[39m0.744890\u001b[39m, \u001b[39m0.839369\u001b[39m, \u001b[39m0.848082\u001b[39m, \u001b[39m0.799760\u001b[39m, \u001b[39m0.788632\u001b[39m, \u001b[39m0.450830\u001b[39m, \u001b[39m0.833355\u001b[39m, \u001b[39m0.859432\u001b[39m, \u001b[39m0.535049\u001b[39m, \u001b[39m0.872348\u001b[39m, \u001b[39m0.843511\u001b[39m, \u001b[39m0.585866\u001b[39m],\n\u001b[0;32m      <a href='vscode-notebook-cell:/d%3A/Marsen/Project/DS304/table-gen.ipynb#W0sZmlsZQ%3D%3D?line=7'>8</a>\u001b[0m     \u001b[39m'\u001b[39m\u001b[39mModel_processed\u001b[39m\u001b[39m'\u001b[39m: [\u001b[39m0.917181\u001b[39m, \u001b[39m0.023687\u001b[39m, \u001b[39m0.832210\u001b[39m, \u001b[39m0.886117\u001b[39m, \u001b[39m0.285295\u001b[39m, \u001b[39m0.858818\u001b[39m, \u001b[39m0.918579\u001b[39m, \u001b[39m0.871947\u001b[39m, \u001b[39m0.903559\u001b[39m, \u001b[39m0.663836\u001b[39m, \u001b[39m0.808951\u001b[39m, \u001b[39m0.843010\u001b[39m, \u001b[39m0.890774\u001b[39m, \u001b[39m0.881127\u001b[39m, \u001b[39m0.915849\u001b[39m, \u001b[39m0.899405\u001b[39m, \u001b[39m-\u001b[39m\u001b[39m0.397672\u001b[39m, \u001b[39m0.890799\u001b[39m, \u001b[39m0.875761\u001b[39m, \u001b[39m0.759158\u001b[39m]\n\u001b[0;32m      <a href='vscode-notebook-cell:/d%3A/Marsen/Project/DS304/table-gen.ipynb#W0sZmlsZQ%3D%3D?line=8'>9</a>\u001b[0m }\n\u001b[1;32m---> <a href='vscode-notebook-cell:/d%3A/Marsen/Project/DS304/table-gen.ipynb#W0sZmlsZQ%3D%3D?line=10'>11</a>\u001b[0m df \u001b[39m=\u001b[39m pd\u001b[39m.\u001b[39;49mDataFrame(data)\n\u001b[0;32m     <a href='vscode-notebook-cell:/d%3A/Marsen/Project/DS304/table-gen.ipynb#W0sZmlsZQ%3D%3D?line=12'>13</a>\u001b[0m \u001b[39m# Tạo bảng pivot theo Metrics\u001b[39;00m\n\u001b[0;32m     <a href='vscode-notebook-cell:/d%3A/Marsen/Project/DS304/table-gen.ipynb#W0sZmlsZQ%3D%3D?line=13'>14</a>\u001b[0m pivot_df \u001b[39m=\u001b[39m df\u001b[39m.\u001b[39mpivot(index\u001b[39m=\u001b[39m\u001b[39m'\u001b[39m\u001b[39mSeed\u001b[39m\u001b[39m'\u001b[39m, columns\u001b[39m=\u001b[39m\u001b[39m'\u001b[39m\u001b[39mMetrics\u001b[39m\u001b[39m'\u001b[39m, values\u001b[39m=\u001b[39m[\u001b[39m'\u001b[39m\u001b[39mModel_raw\u001b[39m\u001b[39m'\u001b[39m, \u001b[39m'\u001b[39m\u001b[39mModel_processed\u001b[39m\u001b[39m'\u001b[39m])\n",
      "File \u001b[1;32mc:\\ProgramData\\Anaconda3\\lib\\site-packages\\pandas\\core\\frame.py:664\u001b[0m, in \u001b[0;36mDataFrame.__init__\u001b[1;34m(self, data, index, columns, dtype, copy)\u001b[0m\n\u001b[0;32m    658\u001b[0m     mgr \u001b[39m=\u001b[39m \u001b[39mself\u001b[39m\u001b[39m.\u001b[39m_init_mgr(\n\u001b[0;32m    659\u001b[0m         data, axes\u001b[39m=\u001b[39m{\u001b[39m\"\u001b[39m\u001b[39mindex\u001b[39m\u001b[39m\"\u001b[39m: index, \u001b[39m\"\u001b[39m\u001b[39mcolumns\u001b[39m\u001b[39m\"\u001b[39m: columns}, dtype\u001b[39m=\u001b[39mdtype, copy\u001b[39m=\u001b[39mcopy\n\u001b[0;32m    660\u001b[0m     )\n\u001b[0;32m    662\u001b[0m \u001b[39melif\u001b[39;00m \u001b[39misinstance\u001b[39m(data, \u001b[39mdict\u001b[39m):\n\u001b[0;32m    663\u001b[0m     \u001b[39m# GH#38939 de facto copy defaults to False only in non-dict cases\u001b[39;00m\n\u001b[1;32m--> 664\u001b[0m     mgr \u001b[39m=\u001b[39m dict_to_mgr(data, index, columns, dtype\u001b[39m=\u001b[39;49mdtype, copy\u001b[39m=\u001b[39;49mcopy, typ\u001b[39m=\u001b[39;49mmanager)\n\u001b[0;32m    665\u001b[0m \u001b[39melif\u001b[39;00m \u001b[39misinstance\u001b[39m(data, ma\u001b[39m.\u001b[39mMaskedArray):\n\u001b[0;32m    666\u001b[0m     \u001b[39mimport\u001b[39;00m \u001b[39mnumpy\u001b[39;00m\u001b[39m.\u001b[39;00m\u001b[39mma\u001b[39;00m\u001b[39m.\u001b[39;00m\u001b[39mmrecords\u001b[39;00m \u001b[39mas\u001b[39;00m \u001b[39mmrecords\u001b[39;00m\n",
      "File \u001b[1;32mc:\\ProgramData\\Anaconda3\\lib\\site-packages\\pandas\\core\\internals\\construction.py:493\u001b[0m, in \u001b[0;36mdict_to_mgr\u001b[1;34m(data, index, columns, dtype, typ, copy)\u001b[0m\n\u001b[0;32m    489\u001b[0m     \u001b[39melse\u001b[39;00m:\n\u001b[0;32m    490\u001b[0m         \u001b[39m# dtype check to exclude e.g. range objects, scalars\u001b[39;00m\n\u001b[0;32m    491\u001b[0m         arrays \u001b[39m=\u001b[39m [x\u001b[39m.\u001b[39mcopy() \u001b[39mif\u001b[39;00m \u001b[39mhasattr\u001b[39m(x, \u001b[39m\"\u001b[39m\u001b[39mdtype\u001b[39m\u001b[39m\"\u001b[39m) \u001b[39melse\u001b[39;00m x \u001b[39mfor\u001b[39;00m x \u001b[39min\u001b[39;00m arrays]\n\u001b[1;32m--> 493\u001b[0m \u001b[39mreturn\u001b[39;00m arrays_to_mgr(arrays, columns, index, dtype\u001b[39m=\u001b[39;49mdtype, typ\u001b[39m=\u001b[39;49mtyp, consolidate\u001b[39m=\u001b[39;49mcopy)\n",
      "File \u001b[1;32mc:\\ProgramData\\Anaconda3\\lib\\site-packages\\pandas\\core\\internals\\construction.py:118\u001b[0m, in \u001b[0;36marrays_to_mgr\u001b[1;34m(arrays, columns, index, dtype, verify_integrity, typ, consolidate)\u001b[0m\n\u001b[0;32m    115\u001b[0m \u001b[39mif\u001b[39;00m verify_integrity:\n\u001b[0;32m    116\u001b[0m     \u001b[39m# figure out the index, if necessary\u001b[39;00m\n\u001b[0;32m    117\u001b[0m     \u001b[39mif\u001b[39;00m index \u001b[39mis\u001b[39;00m \u001b[39mNone\u001b[39;00m:\n\u001b[1;32m--> 118\u001b[0m         index \u001b[39m=\u001b[39m _extract_index(arrays)\n\u001b[0;32m    119\u001b[0m     \u001b[39melse\u001b[39;00m:\n\u001b[0;32m    120\u001b[0m         index \u001b[39m=\u001b[39m ensure_index(index)\n",
      "File \u001b[1;32mc:\\ProgramData\\Anaconda3\\lib\\site-packages\\pandas\\core\\internals\\construction.py:666\u001b[0m, in \u001b[0;36m_extract_index\u001b[1;34m(data)\u001b[0m\n\u001b[0;32m    664\u001b[0m lengths \u001b[39m=\u001b[39m \u001b[39mlist\u001b[39m(\u001b[39mset\u001b[39m(raw_lengths))\n\u001b[0;32m    665\u001b[0m \u001b[39mif\u001b[39;00m \u001b[39mlen\u001b[39m(lengths) \u001b[39m>\u001b[39m \u001b[39m1\u001b[39m:\n\u001b[1;32m--> 666\u001b[0m     \u001b[39mraise\u001b[39;00m \u001b[39mValueError\u001b[39;00m(\u001b[39m\"\u001b[39m\u001b[39mAll arrays must be of the same length\u001b[39m\u001b[39m\"\u001b[39m)\n\u001b[0;32m    668\u001b[0m \u001b[39mif\u001b[39;00m have_dicts:\n\u001b[0;32m    669\u001b[0m     \u001b[39mraise\u001b[39;00m \u001b[39mValueError\u001b[39;00m(\n\u001b[0;32m    670\u001b[0m         \u001b[39m\"\u001b[39m\u001b[39mMixing dicts with non-Series may lead to ambiguous ordering.\u001b[39m\u001b[39m\"\u001b[39m\n\u001b[0;32m    671\u001b[0m     )\n",
      "\u001b[1;31mValueError\u001b[0m: All arrays must be of the same length"
     ]
    }
   ],
   "source": [
    "import pandas as pd\n",
    "\n",
    "# Tạo DataFrame từ dữ liệu đã cho\n",
    "data = {\n",
    "    'Metrics': ['R2', 'MSE', 'RMSE', 'MAE'],\n",
    "    'Seed': [0.0, 1.0, 2.0, 3.0, 4.0, 5.0, 6.0, 7.0, 8.0, 9.0, 10.0, 11.0, 12.0, 13.0, 14.0, 15.0, 16.0, 17.0, 18.0, 19.0],\n",
    "    'Model_raw': [0.557503, 0.819454, 0.765616, 0.496773, 0.814816, 0.789928, 0.817173, 0.865372, 0.744890, 0.839369, 0.848082, 0.799760, 0.788632, 0.450830, 0.833355, 0.859432, 0.535049, 0.872348, 0.843511, 0.585866],\n",
    "    'Model_processed': [0.917181, 0.023687, 0.832210, 0.886117, 0.285295, 0.858818, 0.918579, 0.871947, 0.903559, 0.663836, 0.808951, 0.843010, 0.890774, 0.881127, 0.915849, 0.899405, -0.397672, 0.890799, 0.875761, 0.759158]\n",
    "}\n",
    "\n",
    "df = pd.DataFrame(data)\n",
    "\n",
    "# Tạo bảng pivot theo Metrics\n",
    "pivot_df = df.pivot(index='Seed', columns='Metrics', values=['Model_raw', 'Model_processed'])\n",
    "\n",
    "# Lưu DataFrame vào tệp Excel\n",
    "pivot_df.to_excel('raw-preprocess.xlsx')"
   ]
  }
 ],
 "metadata": {
  "kernelspec": {
   "display_name": "base",
   "language": "python",
   "name": "python3"
  },
  "language_info": {
   "codemirror_mode": {
    "name": "ipython",
    "version": 3
   },
   "file_extension": ".py",
   "mimetype": "text/x-python",
   "name": "python",
   "nbconvert_exporter": "python",
   "pygments_lexer": "ipython3",
   "version": "3.10.9"
  },
  "orig_nbformat": 4
 },
 "nbformat": 4,
 "nbformat_minor": 2
}
